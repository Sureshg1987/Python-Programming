{
 "cells": [
  {
   "cell_type": "markdown",
   "id": "647a4b41-9484-43dc-b271-632586ab5a0c",
   "metadata": {},
   "source": [
    "Stage 1: Data Structures Problem Statements\r\n",
    "Below are 10 progressively challenging problem statements. Each includes a scenario, starter code, and clear instructions.\r\n",
    "\r\n",
    "Topic: Lists\r\n",
    "1. Easy Problem - Creating a To-Do List\r\n",
    "Scenario: You are building a simple to-do list app. Each task in the list is represented as a string.\r\n",
    "\r\n",
    "Starter Code:"
   ]
  },
  {
   "cell_type": "markdown",
   "id": "e3632ba8-2706-40e4-b26f-20041027a704",
   "metadata": {},
   "source": [
    "tasks = []"
   ]
  },
  {
   "cell_type": "markdown",
   "id": "ad817d6c-084f-4a6d-bc1d-794a06e51ea3",
   "metadata": {},
   "source": [
    "Problem Statement:\r\n",
    "1) \r\n",
    "Add three tasks to the list: \"Buy groceries\", \"Clean room\", \"Finish project\"2) .\r\n",
    "Print the list after adding the task\n",
    "s.\r\n",
    "Hint for Question 1: Creating a To-Do L\n",
    "ist\r\n",
    "Problem Recap:\r\n",
    "You need to add three tasks to a list (tasks) and print the updatedist.\r\n",
    "\r\n"
   ]
  },
  {
   "cell_type": "markdown",
   "id": "4a78ba7e-7716-4d56-94e9-0df18c6f6f30",
   "metadata": {},
   "source": [
    "Hints:\r\n",
    "1) \r\n",
    "Adding Elements to a List:\r\n",
    "Use the append() method to add individual items to the list. For exampl\n",
    ":\r\n",
    "\r\n",
    "tasks.append(\"Buy groceri\n",
    "2) es\")\r\n",
    "Printing the List:\r\n",
    "After adding all tasks, use the print() function to display the list contents. For example:\r\n",
    "\r\n",
    "prin\n",
    "3) t(tasks)\r\n",
    "Order Matters:\r\n",
    "Add tasks in the exact order sa. pecified:\r\n",
    "\r\n",
    "\"Bub. y groceries\"\r",
    "c. \n",
    "\"Clean room\"\r\n",
    "\"\n",
    "F4) inish project\"\r\n",
    "Expected Output:\r\n",
    "After completing the steps, the list sh[\"Buy groceries\", \"Clean room\", \"Finish project\"], \"Finish project\"]"
   ]
  },
  {
   "cell_type": "markdown",
   "id": "f60cc596-6308-4889-aa1a-b91044a80650",
   "metadata": {},
   "source": [
    "# Solution\r\n",
    "tasks.append(\"Buy groceries\")\r\n",
    "tasks.append(\"Clean room\")\r\n",
    "tasks.append(\"Finish project\")\r\n",
    "\r\n",
    "print(tasks)"
   ]
  },
  {
   "cell_type": "markdown",
   "id": "9e16c6f6-e187-4fe2-bceb-42b2584d530e",
   "metadata": {},
   "source": []
  },
  {
   "cell_type": "markdown",
   "id": "09556a24-2218-41eb-a956-53ee3e000a45",
   "metadata": {},
   "source": [
    "2. Medium Problem - Task Organizer\r\n",
    "Scenario: The to-do list app now needs to sort tasks by priority. Tasks starting with \"!\" are high priority.\r\n",
    "\r\n",
    "Starter Code:"
   ]
  },
  {
   "cell_type": "markdown",
   "id": "2462a446-b5fd-4325-989b-395ad25b5dde",
   "metadata": {},
   "source": [
    "tasks = [\"Clean room\", \"!Pay bills\", \"Buy groceries\", \"!Submit report\"]"
   ]
  },
  {
   "cell_type": "markdown",
   "id": "df6e80dc-bd3a-4a42-8178-a6e19d162180",
   "metadata": {},
   "source": [
    "Problem Statement:\r\n",
    "1) \r\n",
    "Separate high-priority tasks (those starting with \"!\") into a new list2) .\r\n",
    "Print the high-priority list and the remaining tasks."
   ]
  },
  {
   "cell_type": "markdown",
   "id": "f71a6703-b86d-4d1b-893e-bc60130805c0",
   "metadata": {},
   "source": [
    "Topic: Dictionaries\n",
    "\r\n",
    "3. Easy Problem - Contact Book\r\n",
    "Scenario: You are creating a contact book where each contact is stored as a key-value pair with names as keys and phone numbers as values."
   ]
  },
  {
   "cell_type": "markdown",
   "id": "9f9d78f9-b384-4d33-8565-d2fa11caeb3e",
   "metadata": {},
   "source": [
    "contacts = {}"
   ]
  },
  {
   "cell_type": "markdown",
   "id": "84ad3cca-78f2-43e7-bf57-db0d9a6b98c5",
   "metadata": {},
   "source": [
    "Problem Statement:\r\n",
    "1) \r\n",
    "Add the following contacts to the dictionary: \"Alice: 1234567890\", \"Bob: 9876543210\"2) .\r\n",
    "Retrieve and print Bob's phone number."
   ]
  },
  {
   "cell_type": "markdown",
   "id": "a18b7661-4383-4b6f-b7bb-aeb02fc5ebef",
   "metadata": {},
   "source": [
    "4. Medium Problem - Contact Search\r\n",
    "\n",
    "Scenario: You want to search for contacts by their phone number.\r\n",
    "\r\n",
    "Starter Code:"
   ]
  },
  {
   "cell_type": "markdown",
   "id": "e881246b-d849-4dff-bc02-407802ed823a",
   "metadata": {},
   "source": [
    "contacts = {\r\n",
    "    \"Alice\": \"1234567890\",\r\n",
    "    \"Bob\": \"9876543210\",\r\n",
    "    \"Charlie\": \"1122334455\"\r\n",
    "}"
   ]
  },
  {
   "cell_type": "markdown",
   "id": "184705d7-e253-4518-9513-df224fd9286d",
   "metadata": {},
   "source": [
    "Problem Statement:\r\n",
    "1) \r\n",
    "Write a function find_contact(phone_number) to return the name of the contact given a phone number2) .\r\n",
    "Test the function with the input \"9876543210\"."
   ]
  },
  {
   "cell_type": "markdown",
   "id": "7bdf6017-5df9-4855-8db7-aca09462f0a6",
   "metadata": {},
   "source": [
    "Topic: Tuples\r\n",
    "\n",
    "5. Easy Problem - Coordinate Storage\r\n",
    "Scenario: A GPS app stores locations as tuples of latitude and longitude.\r\n",
    "\r\n",
    "Starter Code:"
   ]
  },
  {
   "cell_type": "markdown",
   "id": "6e17b8f4-1887-49d1-9140-a632c6413549",
   "metadata": {},
   "source": [
    "locations = []"
   ]
  },
  {
   "cell_type": "markdown",
   "id": "a16c269e-bf3f-4b75-9e1a-7646b4227d0e",
   "metadata": {},
   "source": [
    "Problem Statement:\r\n",
    "1) \r\n",
    "Add three locations to the list as tuples: (12.9716, 77.5946), (28.7041, 77.1025), (19.0760, 72.8777)2) .\r\n",
    "Print the list of locations."
   ]
  },
  {
   "cell_type": "markdown",
   "id": "70bd345d-d490-4269-8b41-403ed258d7ba",
   "metadata": {},
   "source": [
    "6. Medium Problem - Distance Calculator\r\n",
    "Scenario: The GPS app now needs to find the closest location to a given point.\r\n",
    "\r\n",
    "Starter Code:"
   ]
  },
  {
   "cell_type": "markdown",
   "id": "45c55014-913c-476d-b909-2b57f1cab428",
   "metadata": {},
   "source": [
    "locations = [(12.9716, 77.5946), (28.7041, 77.1025), (19.0760, 72.8777)]\r\n",
    "current_location = (13.0827, 80.2707)  # Example current location"
   ]
  },
  {
   "cell_type": "markdown",
   "id": "39be2fd5-a062-4c80-b2d1-553b4dc2b020",
   "metadata": {},
   "source": [
    "Problem Statement:\r\n",
    "1) \r\n",
    "Write a function find_closest(locations, current_location) to find and return the closest location2) .\r\n",
    "Test it with the given current_location."
   ]
  },
  {
   "cell_type": "markdown",
   "id": "89d20fd9-51c5-4ad3-821c-e5f02d42b731",
   "metadata": {},
   "source": [
    "Topic: Sets\r\n",
    "7. Easy Problem - Unique Visitors\r\n",
    "Scenario: A website tracks visitors using their IP addresses.\r\n",
    "\r\n",
    "Starter Code:"
   ]
  },
  {
   "cell_type": "markdown",
   "id": "bb2e2c6b-5567-4ed7-91c7-bf4bb63dcba1",
   "metadata": {},
   "source": [
    "visitors = set()"
   ]
  },
  {
   "cell_type": "markdown",
   "id": "48be8a4c-c74c-4ea9-bab4-79706f1427b5",
   "metadata": {},
   "source": [
    "Problem Statement:\r\n",
    "1) \r\n",
    "Add the following IPs to the set: \"192.168.1.1\", \"192.168.1.2\", \"192.168.1.1\", \"192.168.1.3\"2) .\r\n",
    "Print the unique visitor count."
   ]
  },
  {
   "cell_type": "markdown",
   "id": "38450ba5-8eb6-4d12-9cf2-371e9643002f",
   "metadata": {},
   "source": []
  },
  {
   "cell_type": "markdown",
   "id": "cdef50c7-ed85-4909-8f88-5afdd2908c49",
   "metadata": {},
   "source": [
    "8. Medium Problem - Common Visitors\r\n",
    "Scenario: Find common visitors between two different days.\r\n",
    "\r\n",
    "Starter Code:"
   ]
  },
  {
   "cell_type": "markdown",
   "id": "b767dbfd-71fa-4382-a500-d197e2f53c16",
   "metadata": {},
   "source": [
    "day1_visitors = {\"192.168.1.1\", \"192.168.1.2\", \"192.168.1.3\"}\r\n",
    "day2_visitors = {\"192.168.1.2\", \"192.168.1.4\", \"192.168.1.1\"}"
   ]
  },
  {
   "cell_type": "markdown",
   "id": "fad5bd83-2d82-4911-9f79-29afb4dc2fbc",
   "metadata": {},
   "source": [
    "Problem Statement:\r\n",
    "1) \r\n",
    "Find and print the set of common visitors between the two days2) .\r\n",
    "Find and print the set of visitors unique to each day."
   ]
  },
  {
   "cell_type": "markdown",
   "id": "d856bdff-0763-4472-a874-76fef083242f",
   "metadata": {},
   "source": [
    "Topic: Strings\r\n",
    "9. Easy Problem - Sentence Analyzer\r\n",
    "Scenario: Analyze the words in a sentence to count their occurrences.\r\n",
    "\r\n",
    "Starter Code:"
   ]
  },
  {
   "cell_type": "markdown",
   "id": "88b74fc3-c013-49a2-8b50-2a3e98296baa",
   "metadata": {},
   "source": [
    "sentence = \"Python is great and Python is easy\""
   ]
  },
  {
   "cell_type": "markdown",
   "id": "0b60f148-e442-4694-b6fd-5772788e1559",
   "metadata": {},
   "source": [
    "Problem Statement:\r\n",
    "1) \r\n",
    "Split the sentence into words and count the frequency of each word using a dictionary2) .\r\n",
    "Print the dictionary of word frequencies."
   ]
  },
  {
   "cell_type": "markdown",
   "id": "0a898d2e-764a-46df-bedd-2790e8121ba9",
   "metadata": {},
   "source": [
    "10. Medium Problem - Anagram Checker\r\n",
    "Scenario: Check if two strings are anagrams of each other (contain the same characters in any order).\r\n",
    "\r\n",
    "Starter Code:"
   ]
  },
  {
   "cell_type": "markdown",
   "id": "dbf8ae6b-0e1e-47c3-8f26-9c6b73aea251",
   "metadata": {},
   "source": [
    "def is_anagram(str1, str2):\r\n",
    "    pas"
   ]
  },
  {
   "cell_type": "markdown",
   "id": "1e7fcedd-a435-4c16-ab65-fc845c6df16c",
   "metadata": {},
   "source": [
    "Problem Statement:\r\n",
    "\r\n",
    "Complete the is_anagram function to return True if the strings are anagrams, otherwise False.\r\n",
    "Test the function with inputs \"listen\" and \"silent\".s"
   ]
  }
 ],
 "metadata": {
  "kernelspec": {
   "display_name": "Python 3 (ipykernel)",
   "language": "python",
   "name": "python3"
  },
  "language_info": {
   "codemirror_mode": {
    "name": "ipython",
    "version": 3
   },
   "file_extension": ".py",
   "mimetype": "text/x-python",
   "name": "python",
   "nbconvert_exporter": "python",
   "pygments_lexer": "ipython3",
   "version": "3.11.7"
  }
 },
 "nbformat": 4,
 "nbformat_minor": 5
}
